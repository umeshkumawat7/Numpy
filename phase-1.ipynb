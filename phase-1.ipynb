{
 "cells": [
  {
   "cell_type": "markdown",
   "id": "d4b83143",
   "metadata": {},
   "source": [
    "## Numpy arry and basic\n",
    "Learn about array with Umesh"
   ]
  },
  {
   "cell_type": "code",
   "execution_count": 1,
   "id": "16548ef5",
   "metadata": {},
   "outputs": [],
   "source": [
    "import numpy as np "
   ]
  },
  {
   "cell_type": "code",
   "execution_count": 3,
   "id": "00df6a09",
   "metadata": {},
   "outputs": [
    {
     "name": "stdout",
     "output_type": "stream",
     "text": [
      "1D array:  [1 2 3 4 5 6]\n",
      "2D array: [[1 2 3]\n",
      " [4 5 6]]\n"
     ]
    }
   ],
   "source": [
    "array_1d = np.array([1,2,3,4,5,6])\n",
    "print(\"1D array: \",array_1d)\n",
    "\n",
    "array_2d = np.array([[1,2,3],[4,5,6]])\n",
    "print('2D array:',array_2d)"
   ]
  },
  {
   "cell_type": "markdown",
   "id": "3cbd079b",
   "metadata": {},
   "source": [
    "### List vs Numpy"
   ]
  },
  {
   "cell_type": "code",
   "execution_count": 6,
   "id": "86037aac",
   "metadata": {},
   "outputs": [
    {
     "name": "stdout",
     "output_type": "stream",
     "text": [
      "[1, 2, 3, 1, 2, 3]\n",
      "[2 4 6]\n",
      "time taken by list:  1.5463783740997314\n",
      "time taken by nparry:  0.07628369331359863\n"
     ]
    }
   ],
   "source": [
    "pylist = [1,2,3]\n",
    "#multiplication of pylist\n",
    "print(pylist*2)\n",
    "\n",
    "nparray = np.array([1,2,3])\n",
    "#multiplication of nparray\n",
    "print(nparray*2) #element wise multiplication run\n",
    "\n",
    "#calculate time that consume\n",
    "import time\n",
    "start = time.time()\n",
    "py_list = [i*99 for i in range(10000000)]\n",
    "print('time taken by list: ',time.time()-start)\n",
    "\n",
    "start = time.time()\n",
    "py_arry = np.arange(10000000)*99\n",
    "print('time taken by nparry: ',time.time()-start)\n"
   ]
  },
  {
   "cell_type": "markdown",
   "id": "e411ea0a",
   "metadata": {},
   "source": [
    "### Creating array from scratch"
   ]
  },
  {
   "cell_type": "code",
   "execution_count": 16,
   "id": "6a270a4b",
   "metadata": {},
   "outputs": [
    {
     "name": "stdout",
     "output_type": "stream",
     "text": [
      "zero's array:\n",
      " [[0. 0. 0. 0.]\n",
      " [0. 0. 0. 0.]\n",
      " [0. 0. 0. 0.]]\n",
      "1's matrix\n",
      " [[1. 1.]\n",
      " [1. 1.]\n",
      " [1. 1.]\n",
      " [1. 1.]]\n",
      "n's matrix\n",
      " [[5 5]\n",
      " [5 5]\n",
      " [5 5]]\n",
      "[[0.94079506 0.09958001 0.7913708 ]\n",
      " [0.35166554 0.20595587 0.47105358]]\n",
      "[0 6]\n",
      "sequence array:\n",
      " [1 3 5 7 9]\n"
     ]
    }
   ],
   "source": [
    "zeros = np.zeros((3,4))\n",
    "# zeros() method return zero's matrix \n",
    "#(number of rows, number of colomns)\n",
    "print(\"zero's array:\\n\",zeros )\n",
    "\n",
    "ones = np.ones((4,2))\n",
    "#retun ones matrix\n",
    "print(\"1's matrix\\n\",ones )\n",
    "\n",
    "\n",
    "full = np.full((3,2),5)\n",
    "#in full method full((matrix size parameter),value) using it we create a metrix and value of we set it \n",
    "#it return a special shap of array value by you given.\n",
    "print(\"n's matrix\\n\",full)\n",
    "\n",
    "random = np.random.random((2,3))\n",
    "#return a matix of random value and shap you provide like (2,3)\n",
    "print(random)\n",
    "\n",
    "randomInt = np.random.randint((1,10))\n",
    "print(randomInt)\n",
    "\n",
    "sequence = np.arange(1,10,2)\n",
    "print('sequence array:\\n',sequence)"
   ]
  },
  {
   "cell_type": "markdown",
   "id": "d520180b",
   "metadata": {},
   "source": [
    "### Property of array"
   ]
  },
  {
   "cell_type": "code",
   "execution_count": null,
   "id": "2912e7fb",
   "metadata": {},
   "outputs": [
    {
     "name": "stdout",
     "output_type": "stream",
     "text": [
      "Shape (2, 3)\n",
      "Size 6\n",
      "Dimension 2\n",
      "DataType int32\n"
     ]
    }
   ],
   "source": [
    "arr = np.array([[1,2,3],\n",
    "               [4,5,6]])\n",
    "\n",
    "print('Shape',arr.shape) #get shape of array\n",
    "print('Size',arr.size) #get size of array //how much element in\n",
    "print('Dimension',arr.ndim)  #get dimension of array\n",
    "print('DataType',arr.dtype) #get datatype of array\n",
    "#if any value is float it return float64 ,all is int =>int32, even one is string => <U11\n"
   ]
  },
  {
   "cell_type": "markdown",
   "id": "ffa5189a",
   "metadata": {},
   "source": [
    "## Vector Metrix Tensor"
   ]
  },
  {
   "cell_type": "code",
   "execution_count": null,
   "id": "ee9c3eb4",
   "metadata": {},
   "outputs": [
    {
     "name": "stdout",
     "output_type": "stream",
     "text": [
      "Vector:  [1 2 3 4 5 6]\n",
      "Matrix [[1 2 3]\n",
      " [4 5 6]]\n",
      "Tensor:  [[[1 2]\n",
      "  [3 4]]\n",
      "\n",
      " [[5 6]\n",
      "  [7 8]]] 3\n"
     ]
    }
   ],
   "source": [
    "vector = np.array([1,2,3,4,5,6])\n",
    "print('Vector: ',vector)\n",
    "\n",
    "\n",
    "matrix = np.array([\n",
    "    [1,2,3],\n",
    "    [4,5,6]\n",
    "])\n",
    "print('Matrix',matrix)\n",
    "\n",
    "tensor = np.array([\n",
    "    [[1,2],[3,4]],\n",
    "    [[5,6],[7,8]]\n",
    "])\n",
    "print(\"Tensor: \",tensor)"
   ]
  },
  {
   "cell_type": "markdown",
   "id": "8ce972c7",
   "metadata": {},
   "source": [
    "### Array Reshaping"
   ]
  },
  {
   "cell_type": "code",
   "execution_count": null,
   "id": "45366179",
   "metadata": {},
   "outputs": [
    {
     "name": "stdout",
     "output_type": "stream",
     "text": [
      "Original Array:  [ 0  1  2  3  4  5  6  7  8  9 10 11]\n",
      "Reshaped array:  [[ 0  1  2  3]\n",
      " [ 4  5  6  7]\n",
      " [ 8  9 10 11]]\n",
      "[ 0  1  2  3  4  5  6  7  8  9 10 11]\n",
      "Raveled array:  [ 0  1  2  3  4  5  6  7  8  9 10 11]\n",
      "Transposed of arr :\n",
      " [[ 0  4  8]\n",
      " [ 1  5  9]\n",
      " [ 2  6 10]\n",
      " [ 3  7 11]]\n"
     ]
    }
   ],
   "source": [
    "arry = np.arange(12)\n",
    "print('Original Array: ',arry)\n",
    "\n",
    "reshaped = arry.reshape(3,4)\n",
    "print('Reshaped array: ',reshaped) #it reshap the array with given shap\n",
    "\n",
    "flatten = reshaped.flatten() #flat the array , it return a copy\n",
    "print(flatten)\n",
    "\n",
    "raveled = reshaped.ravel()  #it also flat the array //difference with this it return view , instead of copy means it give original array\n",
    "print('Raveled array: ',raveled)\n",
    "\n",
    "transposed = reshaped.T\n",
    "print('Transposed of arr :\\n',transposed) #return a transposed of arry\n",
    "#transposed means turn row in to colmn and colmn to row "
   ]
  }
 ],
 "metadata": {
  "kernelspec": {
   "display_name": "Python 3",
   "language": "python",
   "name": "python3"
  },
  "language_info": {
   "codemirror_mode": {
    "name": "ipython",
    "version": 3
   },
   "file_extension": ".py",
   "mimetype": "text/x-python",
   "name": "python",
   "nbconvert_exporter": "python",
   "pygments_lexer": "ipython3",
   "version": "3.12.1"
  }
 },
 "nbformat": 4,
 "nbformat_minor": 5
}
