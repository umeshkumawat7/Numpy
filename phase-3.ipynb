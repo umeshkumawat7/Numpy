{
 "cells": [
  {
   "cell_type": "markdown",
   "id": "5443bc94",
   "metadata": {},
   "source": [
    "## Advance operation with Business examples"
   ]
  },
  {
   "cell_type": "markdown",
   "id": "196fb133",
   "metadata": {},
   "source": [
    "### Data structure: [restaurant_id, 2021, 2022, 2023, 2024]\n",
    "```python\n",
    "    sales_data = np.array([\n",
    "    [1, 150000, 180000, 220000, 250000],  # Paradise Biryani\n",
    "    [2, 120000, 140000, 160000, 190000],  # Beijing Bites\n",
    "    [3, 200000, 230000, 260000, 300000],  # Pizza Hub\n",
    "    [4, 180000, 210000, 240000, 270000],  # Burger Point\n",
    "    [5, 160000, 185000, 205000, 230000]   # Chai Point\n",
    "])\n",
    "```"
   ]
  },
  {
   "cell_type": "code",
   "execution_count": 20,
   "id": "4c310242",
   "metadata": {},
   "outputs": [],
   "source": [
    "import numpy as np"
   ]
  },
  {
   "cell_type": "code",
   "execution_count": 21,
   "id": "7f7e3269",
   "metadata": {},
   "outputs": [
    {
     "name": "stdout",
     "output_type": "stream",
     "text": [
      "==============Zomato sales data============\n",
      "sles data shape :  (5, 5)\n",
      "sample data for 1st to 3rd restorent: \n",
      " [[     1 150000 180000 220000 250000]\n",
      " [     2 120000 140000 160000 190000]\n",
      " [     3 200000 230000 260000 300000]]\n"
     ]
    }
   ],
   "source": [
    "sales_data = np.array([\n",
    "    [1, 150000, 180000, 220000, 250000],  # Paradise Biryani\n",
    "    [2, 120000, 140000, 160000, 190000],  # Beijing Bites\n",
    "    [3, 200000, 230000, 260000, 300000],  # Pizza Hub\n",
    "    [4, 180000, 210000, 240000, 270000],  # Burger Point\n",
    "    [5, 160000, 185000, 205000, 230000]   # Chai Point\n",
    "])\n",
    "\n",
    "print(\"==============Zomato sales data============\")\n",
    "print(\"sles data shape : \",sales_data.shape)\n",
    "print(\"sample data for 1st to 3rd restorent: \\n\",sales_data[:3])"
   ]
  },
  {
   "cell_type": "markdown",
   "id": "e71c1072",
   "metadata": {},
   "source": [
    "axis = 0 for colmn wise &\n",
    "axis = 1 for row wise"
   ]
  },
  {
   "cell_type": "code",
   "execution_count": 22,
   "id": "f5ffff17",
   "metadata": {},
   "outputs": [
    {
     "name": "stdout",
     "output_type": "stream",
     "text": [
      "Print without restoraunt id:\n",
      " [[150000 180000 220000 250000]\n",
      " [120000 140000 160000 190000]\n",
      " [200000 230000 260000 300000]\n",
      " [180000 210000 240000 270000]\n",
      " [160000 185000 205000 230000]]\n",
      "Totel sales per yearly\n",
      " [ 810000  945000 1085000 1240000]\n"
     ]
    }
   ],
   "source": [
    "#total sales per year\n",
    "print(\"Print without restoraunt id:\\n\",sales_data[:,1:])\n",
    "print(\"Totel sales per yearly\\n\",np.sum(sales_data[:,1:],axis=0))"
   ]
  },
  {
   "cell_type": "code",
   "execution_count": 23,
   "id": "ad3228b0",
   "metadata": {},
   "outputs": [
    {
     "name": "stdout",
     "output_type": "stream",
     "text": [
      "minimum sale per restorent\n",
      "[150000 120000 200000 180000 160000]\n",
      "maximum sale per year\n",
      "[200000 230000 260000 300000]\n",
      "average sale per restaurant\n",
      "[200000. 152500. 247500. 225000. 195000.]\n"
     ]
    }
   ],
   "source": [
    "#minimum sale per restorent\n",
    "print(\"minimum sale per restorent\")\n",
    "print(np.min(sales_data[:,1:],axis=1))\n",
    "\n",
    "#maximum sale per year\n",
    "print(\"maximum sale per year\")\n",
    "print(np.max(sales_data[:,1:],axis=0))\n",
    "\n",
    "#average sale per restaurant\n",
    "print(\"average sale per restaurant\")\n",
    "print(np.mean(sales_data[:,1:],axis=1)) #mean() return average"
   ]
  },
  {
   "cell_type": "code",
   "execution_count": 24,
   "id": "5ec67879",
   "metadata": {},
   "outputs": [
    {
     "name": "stdout",
     "output_type": "stream",
     "text": [
      "Additions:  [ 7  9 11 13 15]\n",
      "Multiplications:  [ 6 14 24 36 50]\n",
      "dot product:  130\n",
      "angle:  0.26554161733900966\n"
     ]
    }
   ],
   "source": [
    "# Vector Operations\n",
    "vector1 = np.array([1,2,3,4,5])\n",
    "vector2 = np.array([6,7,8,9,10])\n",
    "print(\"Additions: \",vector1 + vector2)\n",
    "\n",
    "print(\"Multiplications: \",vector1 * vector2)\n",
    "\n",
    "print(\"dot product: \",np.dot(vector1,vector2))\n",
    "\n",
    "angle = np.arccos(np.dot(vector1,vector2)/(np.linalg.norm(vector1) * np.linalg.norm(vector2)))\n",
    "print(\"angle: \",angle)"
   ]
  },
  {
   "cell_type": "code",
   "execution_count": 25,
   "id": "b26481d7",
   "metadata": {},
   "outputs": [
    {
     "name": "stdout",
     "output_type": "stream",
     "text": [
      "Vector in UpperCase:  ['BIRYANI' 'CHINESE' 'PIZZA' 'BURGER' 'CAFE']\n"
     ]
    }
   ],
   "source": [
    "#Vectorized\n",
    "restaurant_types = np.array(['biryani', 'chinese', 'pizza', 'burger', 'cafe'])\n",
    "vectorizedUpper = np.vectorize(str.upper) #from vectorize class we import and perform all python task\n",
    "print(\"Vector in UpperCase: \",vectorizedUpper(restaurant_types))"
   ]
  },
  {
   "cell_type": "code",
   "execution_count": 26,
   "id": "cd4ee41d",
   "metadata": {},
   "outputs": [
    {
     "name": "stdout",
     "output_type": "stream",
     "text": [
      "Monthly Average Data:\n",
      " [[12500.         15000.         18333.33333333 20833.33333333]\n",
      " [10000.         11666.66666667 13333.33333333 15833.33333333]\n",
      " [16666.66666667 19166.66666667 21666.66666667 25000.        ]\n",
      " [15000.         17500.         20000.         22500.        ]\n",
      " [13333.33333333 15416.66666667 17083.33333333 19166.66666667]]\n"
     ]
    }
   ],
   "source": [
    "month_avg = sales_data[:,1:]/12\n",
    "print(\"Monthly Average Data:\\n\",month_avg)"
   ]
  }
 ],
 "metadata": {
  "kernelspec": {
   "display_name": "Python 3",
   "language": "python",
   "name": "python3"
  },
  "language_info": {
   "codemirror_mode": {
    "name": "ipython",
    "version": 3
   },
   "file_extension": ".py",
   "mimetype": "text/x-python",
   "name": "python",
   "nbconvert_exporter": "python",
   "pygments_lexer": "ipython3",
   "version": "3.12.1"
  }
 },
 "nbformat": 4,
 "nbformat_minor": 5
}
