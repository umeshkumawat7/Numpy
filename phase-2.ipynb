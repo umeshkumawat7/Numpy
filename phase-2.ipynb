{
 "cells": [
  {
   "cell_type": "markdown",
   "id": "f031e057",
   "metadata": {},
   "source": [
    "## Indexing and Slicing"
   ]
  },
  {
   "cell_type": "code",
   "execution_count": null,
   "id": "cd3133c2",
   "metadata": {},
   "outputs": [],
   "source": [
    "import numpy as np"
   ]
  },
  {
   "cell_type": "code",
   "execution_count": null,
   "id": "cbbc6f3c",
   "metadata": {},
   "outputs": [],
   "source": [
    "arr = np.array([1,2,3,4,5,6,7,8,9,10])\n",
    "print(\"Basic Slicing: \",arr[2:9])\n",
    "print(\"Step : \",arr[1:9:2])\n",
    "print(\"Negative Indexing : \",arr[-3])"
   ]
  },
  {
   "cell_type": "code",
   "execution_count": null,
   "id": "f9854b45",
   "metadata": {},
   "outputs": [],
   "source": [
    "array_2D = np.array([[1,2,3],\n",
    "                    [4,5,6],\n",
    "                    [7,8,9]])\n",
    "\n",
    "print(\"Specific Element: \",array_2D[1,2]) #array[rowIndex,colomnIndex]\n",
    "print(\"Entire Row\",array_2D[0])  #array[rowIndex]\n",
    "print(\"Entire Column : \",array_2D[:,2]) #array[colomnIndex]"
   ]
  },
  {
   "cell_type": "markdown",
   "id": "c689d15b",
   "metadata": {},
   "source": [
    "## Shorting"
   ]
  },
  {
   "cell_type": "code",
   "execution_count": null,
   "id": "74f90083",
   "metadata": {},
   "outputs": [],
   "source": [
    "unsorted_arr = np.array([1,2,3,4,3,1,1,5,8,9,10,4])\n",
    "print(\"Shorted arry: \",np.sort(unsorted_arr))\n",
    "\n",
    "array_2d = np.array([[3,1],\n",
    "                     [1,2],\n",
    "                     [2,3]])\n",
    "print(\"2D array Shorting: \\n\",np.sort(array_2d,axis=0)) #axis=0 means colmn wise sort\n",
    "print(\"2D array Shorting: \\n\",np.sort(array_2d,axis=1)) #axis=1 row wise sort"
   ]
  },
  {
   "cell_type": "markdown",
   "id": "aad753eb",
   "metadata": {},
   "source": [
    "### filter"
   ]
  },
  {
   "cell_type": "code",
   "execution_count": null,
   "id": "aab98378",
   "metadata": {},
   "outputs": [],
   "source": [
    "numbers = np.array([1,2,3,4,5,6,7,8,9,10])\n",
    "even_numbers = numbers[ numbers%2==0 ] #this thing is called masking\n",
    "#numbers % 2 == 0 => [False, True, False, True, False, True, False, True, False, True]\n",
    "#NumPy filters and returns only the elements where the mask is True.\n",
    "print(\"Even Numbers: \",even_numbers)"
   ]
  },
  {
   "cell_type": "markdown",
   "id": "16813d5b",
   "metadata": {},
   "source": [
    "### mask and filter"
   ]
  },
  {
   "cell_type": "code",
   "execution_count": null,
   "id": "4b4f2cb0",
   "metadata": {},
   "outputs": [],
   "source": [
    "mask = numbers>5  #we store expression for evolution we only use it with numpy\n",
    "print(\"Numbers are N>5: \",numbers[mask])"
   ]
  },
  {
   "cell_type": "markdown",
   "id": "fe7b4fc3",
   "metadata": {},
   "source": [
    "### Fancy Indexing vs np.where()"
   ]
  },
  {
   "cell_type": "code",
   "execution_count": null,
   "id": "999825df",
   "metadata": {},
   "outputs": [],
   "source": [
    "indecies = [0,2,4]\n",
    "print(numbers[indecies])\n",
    "\n",
    "where_result = np.where(numbers>5)\n",
    "print(where_result)  #return indexing of value in array\n",
    "print(\"NP Where: \",numbers[where_result]) #get actual value"
   ]
  },
  {
   "cell_type": "code",
   "execution_count": null,
   "id": "87f0daff",
   "metadata": {},
   "outputs": [],
   "source": [
    "condition = np.where(numbers>5 ,numbers*2 ,numbers)\n",
    "print(condition)\n",
    "#advanced where condition used :\n",
    "#where([condtition], if condition sutifised doit[***], else doit[***] )"
   ]
  },
  {
   "cell_type": "code",
   "execution_count": null,
   "id": "4f1c6970",
   "metadata": {},
   "outputs": [],
   "source": [
    "#one more example of it:\n",
    "condition = np.where(numbers>5 , True, False)\n",
    "print(condition)"
   ]
  },
  {
   "cell_type": "markdown",
   "id": "393bbb68",
   "metadata": {},
   "source": [
    "### Add and Remove"
   ]
  },
  {
   "cell_type": "code",
   "execution_count": null,
   "id": "a50a7f48",
   "metadata": {},
   "outputs": [],
   "source": [
    "arr1 = np.array([1,2,3])\n",
    "arr2 = np.array([4,5,6])\n",
    "\n",
    "combined_arr = np.concatenate((arr1,arr2)) #pass array in tuple // concatenate for add\n",
    "print(combined_arr)\n",
    "\n",
    "deleted = np.delete(combined_arr,1) #delete() for delete (array , index or (any,any,any))\n",
    "print(\"after deletion array: \",deleted)"
   ]
  },
  {
   "cell_type": "markdown",
   "id": "db8d1026",
   "metadata": {},
   "source": [
    "### Array Compatbility "
   ]
  },
  {
   "cell_type": "code",
   "execution_count": null,
   "id": "b30b712d",
   "metadata": {},
   "outputs": [],
   "source": [
    "a = np.array([1,2,3])\n",
    "b = np.array([4,5,6])\n",
    "c = np.array([7,8,9,2])\n",
    "\n",
    "print(\"Compatibility Shape a with b: \",a.shape == b.shape)\n",
    "print(\"Compatibility Shape b with c: \",b.shape == c.shape)\n",
    "# Use when we need Element-wise Operation"
   ]
  },
  {
   "cell_type": "code",
   "execution_count": null,
   "id": "2198b73c",
   "metadata": {},
   "outputs": [],
   "source": [
    "#add new row in array -\n",
    "original_arr = np.array([[1,2],[3,4]])\n",
    "new_row = np.array([[5,6]])\n",
    "with_row_arr = np.vstack((original_arr,new_row)) #vstack() to add new row\n",
    "print(\"with new row: \",with_row_arr)\n",
    "\n",
    "#add new col in array -\n",
    "new_col = np.array([[7],[8]])\n",
    "with_col_arr = np.hstack((original_arr,new_col)) #hstack() to add new col\n",
    "print(\"With new col: \",with_col_arr)"
   ]
  }
 ],
 "metadata": {
  "kernelspec": {
   "display_name": "Python 3",
   "language": "python",
   "name": "python3"
  },
  "language_info": {
   "codemirror_mode": {
    "name": "ipython",
    "version": 3
   },
   "file_extension": ".py",
   "mimetype": "text/x-python",
   "name": "python",
   "nbconvert_exporter": "python",
   "pygments_lexer": "ipython3",
   "version": "3.12.1"
  }
 },
 "nbformat": 4,
 "nbformat_minor": 5
}
